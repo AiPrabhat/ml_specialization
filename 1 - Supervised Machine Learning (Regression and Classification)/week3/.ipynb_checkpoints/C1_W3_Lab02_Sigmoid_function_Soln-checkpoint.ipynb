{
 "cells": [
  {
   "cell_type": "markdown",
   "id": "decf4215",
   "metadata": {
    "pycharm": {
     "name": "#%% md\n"
    }
   },
   "source": [
    "# Optional Lab: Logistic Regression\n",
    "\n",
    "In this ungraded lab, you will \n",
    "- explore the sigmoid function (also known as the logistic function)\n",
    "- explore logistic regression; which uses the sigmoid function"
   ]
  },
  {
   "cell_type": "code",
   "execution_count": null,
   "id": "16a3fea1",
   "metadata": {
    "pycharm": {
     "name": "#%%\n"
    }
   },
   "outputs": [],
   "source": [
    "import numpy as np\n",
    "%matplotlib widget\n",
    "import matplotlib.pyplot as plt\n",
    "from plt_one_addpt_onclick import plt_one_addpt_onclick\n",
    "from lab_utils_common import draw_vthresh\n",
    "plt.style.use('./deeplearning.mplstyle')"
   ]
  },
  {
   "cell_type": "markdown",
   "id": "60f2e097",
   "metadata": {
    "pycharm": {
     "name": "#%% md\n"
    }
   },
   "source": [
    "## Sigmoid or Logistic Function\n",
    "<img align=\"left\" src=\"./images/C1_W3_LogisticRegression_left.png\"     style=\" width:300px; padding: 10px; \" >As discussed in the lecture videos, for a classification task, we can start by using our linear regression model, $f_{\\mathbf{w},b}(\\mathbf{x}^{(i)}) = \\mathbf{w} \\cdot  \\mathbf{x}^{(i)} + b$, to predict $y$ given $x$. \n",
    "- However, we would like the predictions of our classification model to be between 0 and 1 since our output variable $y$ is either 0 or 1. \n",
    "- This can be accomplished by using a \"sigmoid function\" which maps all input values to values between 0 and 1. \n",
    "\n",
    "\n",
    "Let's implement the sigmoid function and see this for ourselves.\n",
    "\n",
    "## Formula for Sigmoid function\n",
    "\n",
    "The formula for a sigmoid function is as follows -  \n",
    "\n",
    "$g(z) = \\frac{1}{1+e^{-z}}\\tag{1}$\n",
    "\n",
    "In the case of logistic regression, z (the input to the sigmoid function), is the output of a linear regression model. \n",
    "- In the case of a single example, $z$ is scalar.\n",
    "- in the case of multiple examples, $z$ may be a vector consisting of $m$ values, one for each example. \n",
    "- The implementation of the sigmoid function should cover both of these potential input formats.\n",
    "Let's implement this in Python."
   ]
  },
  {
   "cell_type": "markdown",
   "id": "292dfbbd",
   "metadata": {
    "pycharm": {
     "name": "#%% md\n"
    }
   },
   "source": [
    "NumPy has a function called [`exp()`](https://numpy.org/doc/stable/reference/generated/numpy.exp.html), which offers a convenient way to calculate the exponential ( $e^{z}$) of all elements in the input array (`z`).\n",
    " \n",
    "It also works with a single number as an input, as shown below."
   ]
  },
  {
   "cell_type": "code",
   "execution_count": null,
   "id": "3fc3d973",
   "metadata": {
    "pycharm": {
     "name": "#%%\n"
    }
   },
   "outputs": [],
   "source": [
    "# Input is an array. \n",
    "input_array = np.array([1,2,3])\n",
    "exp_array = np.exp(input_array)\n",
    "\n",
    "print(\"Input to exp:\", input_array)\n",
    "print(\"Output of exp:\", exp_array)\n",
    "\n",
    "# Input is a single number\n",
    "input_val = 1  \n",
    "exp_val = np.exp(input_val)\n",
    "\n",
    "print(\"Input to exp:\", input_val)\n",
    "print(\"Output of exp:\", exp_val)"
   ]
  },
  {
   "cell_type": "markdown",
   "id": "190975bb",
   "metadata": {
    "pycharm": {
     "name": "#%% md\n"
    }
   },
   "source": [
    "The `sigmoid` function is implemented in python as shown in the cell below."
   ]
  },
  {
   "cell_type": "code",
   "execution_count": null,
   "id": "5e62669b",
   "metadata": {
    "pycharm": {
     "name": "#%%\n"
    }
   },
   "outputs": [],
   "source": [
    "def sigmoid(z):\n",
    "    \"\"\"\n",
    "    Compute the sigmoid of z\n",
    "\n",
    "    Args:\n",
    "        z (ndarray): A scalar, numpy array of any size.\n",
    "\n",
    "    Returns:\n",
    "        g (ndarray): sigmoid(z), with the same shape as z\n",
    "         \n",
    "    \"\"\"\n",
    "\n",
    "    g = 1/(1+np.exp(-z))\n",
    "   \n",
    "    return g"
   ]
  },
  {
   "cell_type": "markdown",
   "id": "4cd77067",
   "metadata": {
    "pycharm": {
     "name": "#%% md\n"
    }
   },
   "source": [
    "Let's see what the output of this function is for various value of `z`"
   ]
  },
  {
   "cell_type": "code",
   "execution_count": null,
   "id": "f8c19263",
   "metadata": {
    "pycharm": {
     "name": "#%%\n"
    }
   },
   "outputs": [],
   "source": [
    "# Generate an array of evenly spaced values between -10 and 10\n",
    "z_tmp = np.arange(-10,11)\n",
    "\n",
    "# Use the function implemented above to get the sigmoid values\n",
    "y = sigmoid(z_tmp)\n",
    "\n",
    "# Code for pretty printing the two arrays next to each other\n",
    "np.set_printoptions(precision=3) \n",
    "print(\"Input (z), Output (sigmoid(z))\")\n",
    "print(np.c_[z_tmp, y])"
   ]
  },
  {
   "cell_type": "markdown",
   "id": "1e8e4bc2",
   "metadata": {
    "pycharm": {
     "name": "#%% md\n"
    }
   },
   "source": [
    "The values in the left column are `z`, and the values in the right column are `sigmoid(z)`. As you can see, the input values to the sigmoid range from -10 to 10, and the output values range from 0 to 1. \n",
    "\n",
    "Now, let's try to plot this function using the `matplotlib` library."
   ]
  },
  {
   "cell_type": "code",
   "execution_count": null,
   "id": "ac14754a",
   "metadata": {
    "pycharm": {
     "name": "#%%\n"
    }
   },
   "outputs": [],
   "source": [
    "# Plot z vs sigmoid(z)\n",
    "fig,ax = plt.subplots(1,1,figsize=(5,3))\n",
    "ax.plot(z_tmp, y, c=\"b\")\n",
    "\n",
    "ax.set_title(\"Sigmoid function\")\n",
    "ax.set_ylabel('sigmoid(z)')\n",
    "ax.set_xlabel('z')\n",
    "draw_vthresh(ax,0)"
   ]
  },
  {
   "cell_type": "markdown",
   "id": "c6deb00c",
   "metadata": {
    "pycharm": {
     "name": "#%% md\n"
    }
   },
   "source": [
    "As you can see, the sigmoid function approaches  `0` as `z` goes to large negative values and approaches `1` as `z` goes to large positive values.\n"
   ]
  },
  {
   "cell_type": "markdown",
   "id": "93fd0d92",
   "metadata": {
    "pycharm": {
     "name": "#%% md\n"
    }
   },
   "source": [
    "## Logistic Regression\n",
    "<img align=\"left\" src=\"./images/C1_W3_LogisticRegression_right.png\"     style=\" width:300px; padding: 10px; \" > A logistic regression model applies the sigmoid to the familiar linear regression model as shown below:\n",
    "\n",
    "$$ f_{\\mathbf{w},b}(\\mathbf{x}^{(i)}) = g(\\mathbf{w} \\cdot \\mathbf{x}^{(i)} + b ) \\tag{2} $$ \n",
    "\n",
    "  where\n",
    "\n",
    "  $g(z) = \\frac{1}{1+e^{-z}}\\tag{3}$\n"
   ]
  },
  {
   "cell_type": "markdown",
   "id": "577ff3de",
   "metadata": {
    "pycharm": {
     "name": "#%% md\n"
    }
   },
   "source": [
    "  \n",
    "Let's apply logistic regression to the categorical data example of tumor classification.  \n",
    "First, load the examples and initial values for the parameters.\n",
    "  \n"
   ]
  },
  {
   "cell_type": "code",
   "execution_count": null,
   "id": "325e4634",
   "metadata": {
    "pycharm": {
     "name": "#%%\n"
    },
    "tags": []
   },
   "outputs": [],
   "source": [
    "x_train = np.array([0., 1, 2, 3, 4, 5])\n",
    "y_train = np.array([0,  0, 0, 1, 1, 1])\n",
    "\n",
    "w_in = np.zeros((1))\n",
    "b_in = 0"
   ]
  },
  {
   "cell_type": "markdown",
   "id": "fa4c936d",
   "metadata": {
    "pycharm": {
     "name": "#%% md\n"
    }
   },
   "source": [
    "Try the following steps:\n",
    "- Click on 'Run Logistic Regression' to find the best logistic regression model for the given training data\n",
    "    - Note the resulting model fits the data quite well.\n",
    "    - Note, the orange line is '$z$' or $\\mathbf{w} \\cdot \\mathbf{x}^{(i)} + b$  above. It does not match the line in a linear regression model.\n",
    "Further improve these results by applying a *threshold*. \n",
    "- Tick the box on the 'Toggle 0.5 threshold' to show the predictions if a threshold is applied.\n",
    "    - These predictions look good. The predictions match the data\n",
    "    - Now, add further data points in the large tumor size range (near 10), and re-run logistic regression.\n",
    "    - unlike the linear regression model, this model continues to make correct predictions"
   ]
  },
  {
   "cell_type": "code",
   "execution_count": null,
   "id": "0318558e",
   "metadata": {
    "pycharm": {
     "name": "#%%\n"
    }
   },
   "outputs": [],
   "source": [
    "plt.close('all') \n",
    "addpt = plt_one_addpt_onclick( x_train,y_train, w_in, b_in, logistic=True)"
   ]
  },
  {
   "cell_type": "markdown",
   "id": "02aa6c1b",
   "metadata": {
    "pycharm": {
     "name": "#%% md\n"
    }
   },
   "source": [
    "## Congratulations!\n",
    "You have explored the use of the sigmoid function in logistic regression."
   ]
  },
  {
   "cell_type": "code",
   "execution_count": null,
   "id": "08185638",
   "metadata": {
    "pycharm": {
     "name": "#%%\n"
    }
   },
   "outputs": [],
   "source": []
  }
 ],
 "metadata": {
  "kernelspec": {
   "display_name": "Python 3 (ipykernel)",
   "language": "python",
   "name": "python3"
  },
  "language_info": {
   "codemirror_mode": {
    "name": "ipython",
    "version": 3
   },
   "file_extension": ".py",
   "mimetype": "text/x-python",
   "name": "python",
   "nbconvert_exporter": "python",
   "pygments_lexer": "ipython3",
   "version": "3.12.3"
  },
  "widgets": {
   "application/vnd.jupyter.widget-state+json": {
    "state": {
     "0e56b85393924b67aa4e42efa50435c9": {
      "model_module": "@jupyter-widgets/base",
      "model_module_version": "2.0.0",
      "model_name": "LayoutModel",
      "state": {}
     },
     "251cf54dcb3d44faaaabd54257cf2218": {
      "model_module": "@jupyter-widgets/base",
      "model_module_version": "2.0.0",
      "model_name": "LayoutModel",
      "state": {}
     },
     "357533843cd74a91b4a8ebe6436fa83a": {
      "model_module": "jupyter-matplotlib",
      "model_module_version": "^0.11",
      "model_name": "ToolbarModel",
      "state": {
       "_model_module_version": "^0.11",
       "_view_module_version": "^0.11",
       "collapsed": true,
       "layout": "IPY_MODEL_688a75b009d6419a826dfb614aa1dbb8",
       "orientation": "vertical",
       "toolitems": [
        [
         "Home",
         "Reset original view",
         "home",
         "home"
        ],
        [
         "Back",
         "Back to previous view",
         "arrow-left",
         "back"
        ],
        [
         "Forward",
         "Forward to next view",
         "arrow-right",
         "forward"
        ],
        [
         "Pan",
         "Left button pans, Right button zooms\nx/y fixes axis, CTRL fixes aspect",
         "arrows",
         "pan"
        ],
        [
         "Zoom",
         "Zoom to rectangle\nx/y fixes axis",
         "square-o",
         "zoom"
        ],
        [
         "Download",
         "Download plot",
         "floppy-o",
         "save_figure"
        ]
       ]
      }
     },
     "3993c5902e394533ba03e80ce5a70df4": {
      "model_module": "@jupyter-widgets/base",
      "model_module_version": "2.0.0",
      "model_name": "LayoutModel",
      "state": {}
     },
     "3d261a1d5dca400fa81aedaaeb338d57": {
      "model_module": "@jupyter-widgets/base",
      "model_module_version": "2.0.0",
      "model_name": "LayoutModel",
      "state": {}
     },
     "4bfbb3cb5e9c4b5791e6453346fa5d45": {
      "model_module": "jupyter-matplotlib",
      "model_module_version": "^0.11",
      "model_name": "ToolbarModel",
      "state": {
       "_model_module_version": "^0.11",
       "_view_module_version": "^0.11",
       "collapsed": true,
       "layout": "IPY_MODEL_3d261a1d5dca400fa81aedaaeb338d57",
       "orientation": "vertical",
       "toolitems": [
        [
         "Home",
         "Reset original view",
         "home",
         "home"
        ],
        [
         "Back",
         "Back to previous view",
         "arrow-left",
         "back"
        ],
        [
         "Forward",
         "Forward to next view",
         "arrow-right",
         "forward"
        ],
        [
         "Pan",
         "Left button pans, Right button zooms\nx/y fixes axis, CTRL fixes aspect",
         "arrows",
         "pan"
        ],
        [
         "Zoom",
         "Zoom to rectangle\nx/y fixes axis",
         "square-o",
         "zoom"
        ],
        [
         "Download",
         "Download plot",
         "floppy-o",
         "save_figure"
        ]
       ]
      }
     },
     "5f4f0c2c881142f5a6b300056d6c3f00": {
      "model_module": "jupyter-matplotlib",
      "model_module_version": "^0.11",
      "model_name": "ToolbarModel",
      "state": {
       "_model_module_version": "^0.11",
       "_view_module_version": "^0.11",
       "collapsed": true,
       "layout": "IPY_MODEL_251cf54dcb3d44faaaabd54257cf2218",
       "orientation": "vertical",
       "toolitems": [
        [
         "Home",
         "Reset original view",
         "home",
         "home"
        ],
        [
         "Back",
         "Back to previous view",
         "arrow-left",
         "back"
        ],
        [
         "Forward",
         "Forward to next view",
         "arrow-right",
         "forward"
        ],
        [
         "Pan",
         "Left button pans, Right button zooms\nx/y fixes axis, CTRL fixes aspect",
         "arrows",
         "pan"
        ],
        [
         "Zoom",
         "Zoom to rectangle\nx/y fixes axis",
         "square-o",
         "zoom"
        ],
        [
         "Download",
         "Download plot",
         "floppy-o",
         "save_figure"
        ]
       ]
      }
     },
     "61cb893c261c4af5b4b16595a4b9e849": {
      "model_module": "@jupyter-widgets/base",
      "model_module_version": "2.0.0",
      "model_name": "LayoutModel",
      "state": {}
     },
     "680c7f8ba64a4373a6a0b46da370e58c": {
      "model_module": "jupyter-matplotlib",
      "model_module_version": "^0.11",
      "model_name": "MPLCanvasModel",
      "state": {
       "_cursor": "default",
       "_data_url": "data:image/png;base64,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",
       "_figure_label": "Figure 1",
       "_image_mode": "diff",
       "_message": "x=2.04 y=0.029",
       "_model_module_version": "^0.11",
       "_size": [
        800,
        400
       ],
       "_view_module_version": "^0.11",
       "footer_visible": false,
       "header_visible": false,
       "layout": "IPY_MODEL_c1461c79be8a4c84936ae38157cc6a4f",
       "toolbar": "IPY_MODEL_4bfbb3cb5e9c4b5791e6453346fa5d45",
       "toolbar_position": "left",
       "toolbar_visible": false
      }
     },
     "688a75b009d6419a826dfb614aa1dbb8": {
      "model_module": "@jupyter-widgets/base",
      "model_module_version": "2.0.0",
      "model_name": "LayoutModel",
      "state": {}
     },
     "c1461c79be8a4c84936ae38157cc6a4f": {
      "model_module": "@jupyter-widgets/base",
      "model_module_version": "2.0.0",
      "model_name": "LayoutModel",
      "state": {}
     },
     "c54e304a2ce7443cb2ce2271c501ad3c": {
      "model_module": "@jupyter-widgets/base",
      "model_module_version": "2.0.0",
      "model_name": "LayoutModel",
      "state": {}
     },
     "cdc36dbc22c4437eb0b8a4dc57df5147": {
      "model_module": "jupyter-matplotlib",
      "model_module_version": "^0.11",
      "model_name": "ToolbarModel",
      "state": {
       "_model_module_version": "^0.11",
       "_view_module_version": "^0.11",
       "collapsed": true,
       "layout": "IPY_MODEL_0e56b85393924b67aa4e42efa50435c9",
       "orientation": "vertical",
       "toolitems": [
        [
         "Home",
         "Reset original view",
         "home",
         "home"
        ],
        [
         "Back",
         "Back to previous view",
         "arrow-left",
         "back"
        ],
        [
         "Forward",
         "Forward to next view",
         "arrow-right",
         "forward"
        ],
        [
         "Pan",
         "Left button pans, Right button zooms\nx/y fixes axis, CTRL fixes aspect",
         "arrows",
         "pan"
        ],
        [
         "Zoom",
         "Zoom to rectangle\nx/y fixes axis",
         "square-o",
         "zoom"
        ],
        [
         "Download",
         "Download plot",
         "floppy-o",
         "save_figure"
        ]
       ]
      }
     }
    },
    "version_major": 2,
    "version_minor": 0
   }
  }
 },
 "nbformat": 4,
 "nbformat_minor": 5
}
